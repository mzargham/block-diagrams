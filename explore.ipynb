{
 "cells": [
  {
   "cell_type": "code",
   "execution_count": 1,
   "metadata": {},
   "outputs": [
    {
     "name": "stdout",
     "output_type": "stream",
     "text": [
      "\n",
      "--- Block Validation Debugging ---\n",
      "Block Name: open_game\n",
      "Block Inputs (Domain): Counter({'U': 2})\n",
      "Model Effective Inputs: Counter({'U': 2, 'X': 1})\n",
      "Missing Inputs: Counter()\n",
      "Block Outputs (Codomain): Counter({'Y': 2})\n",
      "Model Effective Outputs: Counter({'Y': 2, 'X': 1})\n",
      "Missing Outputs: Counter()\n",
      "--- End Debugging ---\n",
      "\n",
      "✅ Fully corrected: Detailed Open Game now correctly satisfies Open Game.\n"
     ]
    }
   ],
   "source": [
    "import json\n",
    "from tools.validations import *"
   ]
  },
  {
   "cell_type": "code",
   "execution_count": 2,
   "metadata": {},
   "outputs": [
    {
     "data": {
      "text/plain": [
       "{'processors': [{'ID': 'f',\n",
       "   'Parent': 'F',\n",
       "   'Name': 'Dynamics',\n",
       "   'Ports': ['X', 'U'],\n",
       "   'Terminals': ['X']}],\n",
       " 'wires': [{'ID': 'wrefX',\n",
       "   'Parent': 'X',\n",
       "   'Name': 'State Feedback',\n",
       "   'Source': ['f', 0],\n",
       "   'Destination': ['f', 0]}]}"
      ]
     },
     "execution_count": 2,
     "metadata": {},
     "output_type": "execute_result"
    }
   ],
   "source": [
    "with open(\"models/simple_model.json\", \"r\") as file:\n",
    "    model_data = json.load(file)\n",
    "\n",
    "# Print to verify the data\n",
    "model_data\n"
   ]
  },
  {
   "cell_type": "code",
   "execution_count": 3,
   "metadata": {},
   "outputs": [
    {
     "name": "stdout",
     "output_type": "stream",
     "text": [
      "Connected Ports: {('f', 0)}\n",
      "Open Port Found: Processor 'f', Port Index 1 (U)\n"
     ]
    },
    {
     "data": {
      "text/plain": [
       "False"
      ]
     },
     "execution_count": 3,
     "metadata": {},
     "output_type": "execute_result"
    }
   ],
   "source": [
    "is_closed_loop(model_data)"
   ]
  },
  {
   "cell_type": "code",
   "execution_count": 4,
   "metadata": {},
   "outputs": [
    {
     "data": {
      "text/plain": [
       "{'open_ports': [('f', 'U')], 'available_terminals': [('f', 'X')]}"
      ]
     },
     "execution_count": 4,
     "metadata": {},
     "output_type": "execute_result"
    }
   ],
   "source": [
    "get_open_ports_and_terminals(model_data)"
   ]
  },
  {
   "cell_type": "code",
   "execution_count": 5,
   "metadata": {},
   "outputs": [
    {
     "data": {
      "text/plain": [
       "(['U'], ['X'])"
      ]
     },
     "execution_count": 5,
     "metadata": {},
     "output_type": "execute_result"
    }
   ],
   "source": [
    "get_effective_ports_and_terminals(model_data)"
   ]
  },
  {
   "cell_type": "code",
   "execution_count": 6,
   "metadata": {},
   "outputs": [],
   "source": [
    "with open(\"models/dynamic_game_with_learning.json\", \"r\") as file:\n",
    "    dynamic_game_with_learning_data = json.load(file)"
   ]
  },
  {
   "cell_type": "code",
   "execution_count": 7,
   "metadata": {},
   "outputs": [
    {
     "data": {
      "text/plain": [
       "{'processors': [{'ID': 'alice_dynamics',\n",
       "   'Parent': 'F',\n",
       "   'Name': \"Alice's Dynamics\",\n",
       "   'Ports': ['X', 'U'],\n",
       "   'Terminals': ['X']},\n",
       "  {'ID': 'bob_dynamics',\n",
       "   'Parent': 'F',\n",
       "   'Name': \"Bob's Dynamics\",\n",
       "   'Ports': ['X', 'U'],\n",
       "   'Terminals': ['X']},\n",
       "  {'ID': 'state_aggregator',\n",
       "   'Parent': 'A',\n",
       "   'Name': 'State Aggregator',\n",
       "   'Ports': ['X', 'X'],\n",
       "   'Terminals': ['X']},\n",
       "  {'ID': 'alice_sensor',\n",
       "   'Parent': 'S',\n",
       "   'Name': \"Alice's Sensor\",\n",
       "   'Ports': ['X'],\n",
       "   'Terminals': ['Y']},\n",
       "  {'ID': 'bob_sensor',\n",
       "   'Parent': 'S',\n",
       "   'Name': \"Bob's Sensor\",\n",
       "   'Ports': ['X'],\n",
       "   'Terminals': ['Y']},\n",
       "  {'ID': 'alice_learner',\n",
       "   'Parent': 'Learner',\n",
       "   'Name': \"Alice's Learner\",\n",
       "   'Ports': ['U', 'Y', 'Y'],\n",
       "   'Terminals': ['Theta']},\n",
       "  {'ID': 'alice_decision',\n",
       "   'Parent': 'Decision',\n",
       "   'Name': \"Alice's Decision\",\n",
       "   'Ports': ['Theta'],\n",
       "   'Terminals': ['U', 'Y']},\n",
       "  {'ID': 'bob_learner',\n",
       "   'Parent': 'Learner',\n",
       "   'Name': \"Bob's Learner\",\n",
       "   'Ports': ['U', 'Y', 'Y'],\n",
       "   'Terminals': ['Theta']},\n",
       "  {'ID': 'bob_decision',\n",
       "   'Parent': 'Decision',\n",
       "   'Name': \"Bob's Decision\",\n",
       "   'Ports': ['Theta'],\n",
       "   'Terminals': ['U', 'Y']}],\n",
       " 'wires': [{'ID': 'w_alice_theta',\n",
       "   'Parent': 'Theta',\n",
       "   'Name': \"Alice's Updated Parameters\",\n",
       "   'Source': ['alice_learner', 0],\n",
       "   'Destination': ['alice_decision', 0]},\n",
       "  {'ID': 'w_bob_theta',\n",
       "   'Parent': 'Theta',\n",
       "   'Name': \"Bob's Updated Parameters\",\n",
       "   'Source': ['bob_learner', 0],\n",
       "   'Destination': ['bob_decision', 0]},\n",
       "  {'ID': 'w_alice_action',\n",
       "   'Parent': 'U',\n",
       "   'Name': \"Alice's Action\",\n",
       "   'Source': ['alice_decision', 0],\n",
       "   'Destination': ['alice_dynamics', 1]},\n",
       "  {'ID': 'w_bob_action',\n",
       "   'Parent': 'U',\n",
       "   'Name': \"Bob's Action\",\n",
       "   'Source': ['bob_decision', 0],\n",
       "   'Destination': ['bob_dynamics', 1]},\n",
       "  {'ID': 'alice_feedback_wire',\n",
       "   'Parent': 'X',\n",
       "   'Name': 'Alice State Feedback',\n",
       "   'Source': ['alice_dynamics', 0],\n",
       "   'Destination': ['alice_dynamics', 0]},\n",
       "  {'ID': 'bob_feedback_wire',\n",
       "   'Parent': 'X',\n",
       "   'Name': 'Bob State Feedback',\n",
       "   'Source': ['bob_dynamics', 0],\n",
       "   'Destination': ['bob_dynamics', 0]},\n",
       "  {'ID': 'alice_feedforward_wire',\n",
       "   'Parent': 'X',\n",
       "   'Name': 'Alice State',\n",
       "   'Source': ['alice_dynamics', 0],\n",
       "   'Destination': ['state_aggregator', 0]},\n",
       "  {'ID': 'bob_feedforward_wire',\n",
       "   'Parent': 'X',\n",
       "   'Name': 'Bob State',\n",
       "   'Source': ['bob_dynamics', 0],\n",
       "   'Destination': ['state_aggregator', 1]},\n",
       "  {'ID': 'aggregated_state_to_alice',\n",
       "   'Parent': 'X',\n",
       "   'Name': 'Aggregated State to Alice',\n",
       "   'Source': ['state_aggregator', 0],\n",
       "   'Destination': ['alice_sensor', 0]},\n",
       "  {'ID': 'aggregated_state_to_bob',\n",
       "   'Parent': 'X',\n",
       "   'Name': 'Aggregated State to Bob',\n",
       "   'Source': ['state_aggregator', 0],\n",
       "   'Destination': ['bob_sensor', 0]},\n",
       "  {'ID': 'w_alice_payoff',\n",
       "   'Parent': 'Y',\n",
       "   'Name': \"Alice's Realized Payoff\",\n",
       "   'Source': ['alice_sensor', 0],\n",
       "   'Destination': ['alice_learner', 2]},\n",
       "  {'ID': 'w_bob_payoff',\n",
       "   'Parent': 'Y',\n",
       "   'Name': \"Bob's Realized Payoff\",\n",
       "   'Source': ['bob_sensor', 0],\n",
       "   'Destination': ['bob_learner', 2]},\n",
       "  {'ID': 'w_alice_expected_payoff',\n",
       "   'Parent': 'Y',\n",
       "   'Name': \"Alice's Expected Payoff\",\n",
       "   'Source': ['alice_decision', 1],\n",
       "   'Destination': ['alice_learner', 1]},\n",
       "  {'ID': 'w_bob_expected_payoff',\n",
       "   'Parent': 'Y',\n",
       "   'Name': \"Bob's Expected Payoff\",\n",
       "   'Source': ['bob_decision', 1],\n",
       "   'Destination': ['bob_learner', 1]}]}"
      ]
     },
     "execution_count": 7,
     "metadata": {},
     "output_type": "execute_result"
    }
   ],
   "source": [
    "dynamic_game_with_learning_data"
   ]
  },
  {
   "cell_type": "code",
   "execution_count": 8,
   "metadata": {},
   "outputs": [
    {
     "name": "stdout",
     "output_type": "stream",
     "text": [
      "Connected Ports: {('bob_decision', 0), ('state_aggregator', 1), ('alice_dynamics', 1), ('bob_learner', 2), ('bob_learner', 1), ('state_aggregator', 0), ('alice_learner', 1), ('bob_dynamics', 0), ('alice_dynamics', 0), ('alice_decision', 0), ('bob_sensor', 0), ('alice_sensor', 0), ('alice_learner', 2), ('bob_dynamics', 1)}\n",
      "Open Port Found: Processor 'alice_learner', Port Index 0 (U)\n"
     ]
    },
    {
     "data": {
      "text/plain": [
       "False"
      ]
     },
     "execution_count": 8,
     "metadata": {},
     "output_type": "execute_result"
    }
   ],
   "source": [
    "is_closed_loop(dynamic_game_with_learning_data)"
   ]
  },
  {
   "cell_type": "code",
   "execution_count": 10,
   "metadata": {},
   "outputs": [
    {
     "data": {
      "text/plain": [
       "{'open_ports': [('alice_learner', 'U'), ('bob_learner', 'U')],\n",
       " 'available_terminals': [('alice_dynamics', 'X'),\n",
       "  ('bob_dynamics', 'X'),\n",
       "  ('state_aggregator', 'X'),\n",
       "  ('alice_sensor', 'Y'),\n",
       "  ('bob_sensor', 'Y'),\n",
       "  ('alice_learner', 'Theta'),\n",
       "  ('alice_decision', 'U'),\n",
       "  ('alice_decision', 'Y'),\n",
       "  ('bob_learner', 'Theta'),\n",
       "  ('bob_decision', 'U'),\n",
       "  ('bob_decision', 'Y')]}"
      ]
     },
     "execution_count": 10,
     "metadata": {},
     "output_type": "execute_result"
    }
   ],
   "source": [
    "get_open_ports_and_terminals(dynamic_game_with_learning_data)"
   ]
  },
  {
   "cell_type": "code",
   "execution_count": 11,
   "metadata": {},
   "outputs": [
    {
     "data": {
      "text/plain": [
       "(['U', 'U', 'U', 'U'],\n",
       " ['X', 'X', 'X', 'Y', 'Y', 'Theta', 'U', 'Y', 'Theta', 'U', 'Y'])"
      ]
     },
     "execution_count": 11,
     "metadata": {},
     "output_type": "execute_result"
    }
   ],
   "source": [
    "get_effective_ports_and_terminals(dynamic_game_with_learning_data)"
   ]
  },
  {
   "cell_type": "code",
   "execution_count": null,
   "metadata": {},
   "outputs": [],
   "source": []
  }
 ],
 "metadata": {
  "kernelspec": {
   "display_name": "base",
   "language": "python",
   "name": "python3"
  },
  "language_info": {
   "codemirror_mode": {
    "name": "ipython",
    "version": 3
   },
   "file_extension": ".py",
   "mimetype": "text/x-python",
   "name": "python",
   "nbconvert_exporter": "python",
   "pygments_lexer": "ipython3",
   "version": "3.9.7"
  }
 },
 "nbformat": 4,
 "nbformat_minor": 2
}
